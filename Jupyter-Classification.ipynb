{
 "cells": [
  {
   "cell_type": "markdown",
   "id": "c6b466c8",
   "metadata": {},
   "source": [
    "É uma sequência de camadas e podemos usar o modelo sequencial oferecido pelo Keras, que possui as funções necessárias para construir cada camada de uma rede neural convolucional"
   ]
  },
  {
   "cell_type": "markdown",
   "id": "505dcf98",
   "metadata": {},
   "source": [
    "O Keras utiliza o TensorFlow como backend, pois, na prática, O Keras é apenas uma biblioteca para simplificar a complexidade do TensorFlow. Aqui estão as versões utilizadas:"
   ]
  },
  {
   "cell_type": "code",
   "execution_count": null,
   "id": "d63988a3",
   "metadata": {},
   "outputs": [],
   "source": [
    "#Imports\n",
    "import pandas as pd\n",
    "import numpy as np\n",
    "from tensorflow import keras\n",
    "from tensorflow.keras.preprocessing.image import ImageDataGenerator, load_img\n",
    "from sklearn.model_selection import train_test_split\n",
    "import matplotlib.pyplot as plt\n",
    "import random\n",
    "import os"
   ]
  },
  {
   "cell_type": "markdown",
   "id": "a6e89304",
   "metadata": {},
   "source": [
    "Datasets paths"
   ]
  },
  {
   "cell_type": "code",
   "execution_count": null,
   "id": "81145ee6",
   "metadata": {},
   "outputs": [],
   "source": [
    "train_dir = '../dataset/train/'\n",
    "test_dir = '../dataset/test1/'\n",
    "print(os.listdir(\"../dataset\"))"
   ]
  },
  {
   "cell_type": "markdown",
   "id": "82ebf62b",
   "metadata": {},
   "source": [
    "Image properties"
   ]
  },
  {
   "cell_type": "code",
   "execution_count": null,
   "id": "3bca8c44",
   "metadata": {},
   "outputs": [],
   "source": [
    "FAST_RUN = False\n",
    "# Largura imagem\n",
    "Image_Width = 128\n",
    "# Altura imagem\n",
    "Image_Height = 128\n",
    "# Tamanho da imagem\n",
    "Image_Size = (Image_Width, Image_Height)\n",
    "# Canais de imagem\n",
    "Image_Channels = 3"
   ]
  },
  {
   "cell_type": "markdown",
   "id": "746026a5",
   "metadata": {},
   "source": [
    "Prepare dataset for training model:"
   ]
  },
  {
   "cell_type": "code",
   "execution_count": null,
   "id": "361e065e",
   "metadata": {},
   "outputs": [],
   "source": [
    "filenames = os.listdir(train_dir)\n",
    "categories = []\n",
    "for file in filenames:\n",
    "    category = file.split('.')[0]    \n",
    "    if category == 'dog':\n",
    "        categories.append(1)\n",
    "    else:     \n",
    "        categories.append(0)\n",
    "\n",
    "df = pd.DataFrame({\n",
    "    'filename' : filenames,\n",
    "    'category' : categories\n",
    "    })"
   ]
  },
  {
   "cell_type": "code",
   "execution_count": null,
   "id": "af87f873",
   "metadata": {},
   "outputs": [],
   "source": [
    "df.head()"
   ]
  },
  {
   "cell_type": "code",
   "execution_count": null,
   "id": "40c69815",
   "metadata": {
    "scrolled": true
   },
   "outputs": [],
   "source": [
    "df.tail()"
   ]
  },
  {
   "cell_type": "markdown",
   "id": "cd6ec80a",
   "metadata": {},
   "source": [
    "Total de arquivos"
   ]
  },
  {
   "cell_type": "code",
   "execution_count": null,
   "id": "64a4e875",
   "metadata": {},
   "outputs": [],
   "source": [
    "df['category'].value_counts().plot.bar()"
   ]
  },
  {
   "cell_type": "markdown",
   "id": "f9d20675",
   "metadata": {},
   "source": [
    "Amostra de imagem"
   ]
  },
  {
   "cell_type": "code",
   "execution_count": null,
   "id": "827fecb7",
   "metadata": {},
   "outputs": [],
   "source": [
    "sample = random.choice(filenames)\n",
    "image = load_img(train_dir + sample)\n",
    "plt.imshow(image)"
   ]
  },
  {
   "cell_type": "markdown",
   "id": "f77403b8",
   "metadata": {},
   "source": [
    "Inicializando a rede neural convolucional"
   ]
  },
  {
   "cell_type": "code",
   "execution_count": null,
   "id": "7a9ab26b",
   "metadata": {},
   "outputs": [],
   "source": [
    "from tensorflow.keras import Sequential\n",
    "from tensorflow.keras.layers import Conv2D, MaxPooling2D\n",
    "from tensorflow.keras.layers import Dropout, Flatten\n",
    "from tensorflow.keras.layers import BatchNormalization, Dense\n",
    "from tensorflow.keras.layers import Activation\n",
    "\n",
    "model = Sequential()"
   ]
  },
  {
   "cell_type": "markdown",
   "id": "afc73ace",
   "metadata": {},
   "source": [
    "Defininco parâmetros para o shape dos dados de entrada e a função de ativação. Usaremos 32 features para um array 2D e definiremos nosso array como o formato 3x3"
   ]
  },
  {
   "cell_type": "markdown",
   "id": "45eb3281",
   "metadata": {},
   "source": [
    "Converteremos todas as nossas imagens 64x64 pixels em um array 3D (pois as imagens são coloridas com 3 canais de cores)"
   ]
  },
  {
   "cell_type": "code",
   "execution_count": null,
   "id": "5ab917c9",
   "metadata": {},
   "outputs": [],
   "source": [
    "## Conv_1\n",
    "model.add(Conv2D(32, (3, 3), activation = 'relu', input_shape=\n",
    "                (128, 128, 3))\n",
    "          )\n",
    "model.add(keras.layers.Conv2D(32,\n",
    "                              (3,3),\n",
    "                              input_shape=(Image_Width, Image_Height, Image_Channels),\n",
    "                              activation='relu'))\n",
    "model.add(BatchNormalization())\n",
    "model.add(MaxPooling2D(pool_size = (2, 2)))\n",
    "model.add(Dropout(0.25))"
   ]
  },
  {
   "cell_type": "code",
   "execution_count": null,
   "id": "1bf51b08",
   "metadata": {},
   "outputs": [],
   "source": [
    "## Conv_2\n",
    "model.add(Conv2D(64, (3, 3), activation = 'relu'))\n",
    "model.add(BatchNormalization())\n",
    "model.add(MaxPooling2D(pool_size = (2, 2)))\n",
    "model.add(Dropout(0.25))"
   ]
  },
  {
   "cell_type": "code",
   "execution_count": null,
   "id": "f2f25b08",
   "metadata": {},
   "outputs": [],
   "source": [
    "## Conv_3\n",
    "model.add(Conv2D(128, (3, 3), activation = 'relu'))\n",
    "model.add(BatchNormalization())\n",
    "model.add(MaxPooling2D(pool_size = (2,2)))\n",
    "model.add(Dropout(0.25))"
   ]
  },
  {
   "cell_type": "code",
   "execution_count": null,
   "id": "3bb7cdc2",
   "metadata": {},
   "outputs": [],
   "source": [
    "## Flatten\n",
    "model.add(Flatten())\n",
    "model.add(Dense(512, activation = 'relu'))\n",
    "model.add(BatchNormalization())\n",
    "model.add(Dropout(0.5))\n",
    "model.add(Dense(2, activation = 'softmax'))"
   ]
  },
  {
   "cell_type": "markdown",
   "id": "a57de326",
   "metadata": {},
   "source": [
    "Em seguida, aplicamos o agrupamento (pooling) para reduzir o tamanho do mapa de features, resultado da primeria camada de convolução (dividido por 2):"
   ]
  },
  {
   "cell_type": "markdown",
   "id": "448fd00e",
   "metadata": {},
   "source": [
    "Adicionamos, então, a segunda camada de convolução, tornando nossa rede um pouco mais profunda:"
   ]
  },
  {
   "cell_type": "markdown",
   "id": "c8968b90",
   "metadata": {},
   "source": [
    "Mais uma vez, aplicamos a camada de pooling à saída da camada de convolução anterior"
   ]
  },
  {
   "cell_type": "markdown",
   "id": "c89867fc",
   "metadata": {},
   "source": [
    "Agora, aplicamos o \"achatamento\", ou apenas Flatten, para converter a estrutura de dados 2D, resultando da camada anterior em uma estrutura 1D, ou seja, um vetor"
   ]
  },
  {
   "cell_type": "markdown",
   "id": "11f9224d",
   "metadata": {},
   "source": [
    "No próximo passo, conectamos todas as camadas. Usamos uma função de ativação retificadora (relu) e então uma função de ativação sigmoide, para obter as probabilidados de cada imagem conter um cachorro ou um gato. O modelo raramente terá 100% de certeza e o que ele gera como resultado é uma probabilidade."
   ]
  },
  {
   "cell_type": "code",
   "execution_count": null,
   "id": "e4afffc8",
   "metadata": {},
   "outputs": [],
   "source": [
    "## Optimizer and loss\n",
    "model.compile(loss = 'categorical_crossentropy',\n",
    "              optimizer = 'rmsprop',              \n",
    "              metrics = ['accuracy']\n",
    "              )"
   ]
  },
  {
   "cell_type": "code",
   "execution_count": null,
   "id": "ae38a794",
   "metadata": {},
   "outputs": [],
   "source": [
    "## Analyzing model\n",
    "model.summary()"
   ]
  },
  {
   "cell_type": "markdown",
   "id": "73c08552",
   "metadata": {},
   "source": [
    "Finalmente, compilamos nossa rede neural. Para compilar a rede, usamos o otimizador \"Adam\", um excelente algoritmo para otimização baseada em gradiente de funções objetivas, estocásticas, que toma como base uma estimativa adaptada de momneto de baixa ordem."
   ]
  },
  {
   "cell_type": "markdown",
   "id": "e6b6c4ba",
   "metadata": {},
   "source": [
    "Usamos uma função log loss com \"entropia binária cruzada\", pois ela funciona bem com funções sigmoides. Nossa métrica será a acurácia, pois essa é nossa maior preocupação no treinamento desse tipo de modelo."
   ]
  },
  {
   "cell_type": "markdown",
   "id": "03ddab35",
   "metadata": {},
   "source": [
    "Nesse ponto, temos nossa rede contruída. Precisamos, agora, treiná-la"
   ]
  },
  {
   "cell_type": "markdown",
   "id": "87b52ba9",
   "metadata": {},
   "source": [
    "### Treinando a rede neural convolucional"
   ]
  },
  {
   "cell_type": "markdown",
   "id": "17c78155",
   "metadata": {},
   "source": [
    "### Pré-processamento"
   ]
  },
  {
   "cell_type": "markdown",
   "id": "036f2820",
   "metadata": {},
   "source": [
    "Para essa tarefa, vamos usar a função \"ImageDataGenerator()\" do Keras e ajustar escala e zoom das imagens de treino e a escala das imagens de validação."
   ]
  },
  {
   "cell_type": "code",
   "execution_count": null,
   "id": "8b2d22ee",
   "metadata": {},
   "outputs": [],
   "source": [
    "## Define callbacks and learning rate:\n",
    "from tensorflow.keras.callbacks import EarlyStopping    \n",
    "from tensorflow.keras.callbacks import ReduceLROnPlateau\n",
    "\n",
    "earlystop = EarlyStopping(patience = 10)\n",
    "learning_rate_reduction = ReduceLROnPlateau(monitor = 'val_accuracy',\n",
    "                                            patience = 2,\n",
    "                                            verbose = 1,\n",
    "                                            factor = 0.5,\n",
    "                                            min_lr = 0.00001\n",
    "                                            )\n",
    "callbacks = [earlystop, learning_rate_reduction]"
   ]
  },
  {
   "cell_type": "markdown",
   "id": "9026e8c9",
   "metadata": {},
   "source": [
    "Aplicamos, então, os dois objetos criados anteriormente para pré-processar os dados de treino e validação. Lembre-se: o tratamento aplicado aos dados de validação deve ser o mesmo aplicado aos dados de treino."
   ]
  },
  {
   "cell_type": "code",
   "execution_count": null,
   "id": "8df94265",
   "metadata": {},
   "outputs": [],
   "source": [
    "## Manage data:\n",
    "df[\"category\"] = df[\"category\"].replace({ 0 : 'cat', 1 : 'dog' })    \n",
    "train_df, validate_df = train_test_split(df, test_size = 0.30,\n",
    "                                         random_state = 42)\n",
    "\n",
    "train_df = train_df.reset_index(drop = True)\n",
    "validate_df = validate_df.reset_index(drop = True)"
   ]
  },
  {
   "cell_type": "code",
   "execution_count": null,
   "id": "6f7be649",
   "metadata": {
    "scrolled": true
   },
   "outputs": [],
   "source": [
    "train_df['category'].value_counts().plot.bar()"
   ]
  },
  {
   "cell_type": "code",
   "execution_count": null,
   "id": "07010cfa",
   "metadata": {},
   "outputs": [],
   "source": [
    "validate_df['category'].value_counts().plot.bar()"
   ]
  },
  {
   "cell_type": "code",
   "execution_count": null,
   "id": "7c12a4cf",
   "metadata": {},
   "outputs": [],
   "source": [
    "total_train = train_df.shape[0]\n",
    "total_validate = validate_df.shape[0]\n",
    "batch_size = 15"
   ]
  },
  {
   "cell_type": "markdown",
   "id": "2d067eba",
   "metadata": {},
   "source": [
    "### Treinamento"
   ]
  },
  {
   "cell_type": "markdown",
   "id": "242fe2b7",
   "metadata": {},
   "source": [
    "Usaremos 8.000 passos em nosso conjunto de treinamento para cada época. Escolhemos 2.000 etapas de validação para as imagens de validação - esses hiperparâmetros são definidos por você"
   ]
  },
  {
   "cell_type": "code",
   "execution_count": null,
   "id": "21ed93b8",
   "metadata": {},
   "outputs": [],
   "source": [
    "## Training and validation data generator:\n",
    "train_datagen = ImageDataGenerator(rotation_range = 15,\n",
    "                                   rescale = 1./255,\n",
    "                                   shear_range = 0.1,\n",
    "                                   zoom_range = 0.2,\n",
    "                                   horizontal_flip = True,\n",
    "                                   width_shift_range = 0.1,\n",
    "                                   height_shift_range = 0.1,\n",
    "                                   )\n",
    "train_generator = train_datagen.flow_from_dataframe(train_df,\n",
    "                                                    train_dir,\n",
    "                                                    x_col = 'filename',\n",
    "                                                    y_col = 'category',\n",
    "                                                    target_size = Image_Size,\n",
    "                                                    class_mode = 'categorical',\n",
    "                                                    batch_size = batch_size\n",
    "                                                    )"
   ]
  },
  {
   "cell_type": "code",
   "execution_count": null,
   "id": "8d543ef6",
   "metadata": {
    "scrolled": true
   },
   "outputs": [],
   "source": [
    "validation_datagen  = ImageDataGenerator(rescale = 1./255)\n",
    "validation_generator = validation_datagen.flow_from_dataframe(\n",
    "    validate_df,\n",
    "    train_dir,\n",
    "    x_col = 'filename',\n",
    "    y_col = 'category',\n",
    "    target_size = Image_Size,\n",
    "    class_mode = 'categorical',\n",
    "    batch_size = batch_size\n",
    "    )"
   ]
  },
  {
   "cell_type": "markdown",
   "id": "cda55eb3",
   "metadata": {},
   "source": [
    "See how our generator work"
   ]
  },
  {
   "cell_type": "code",
   "execution_count": null,
   "id": "c6ace565",
   "metadata": {},
   "outputs": [],
   "source": [
    "example_df = train_df.sample(n = 1).reset_index(drop = True)\n",
    "example_generator = train_datagen.flow_from_dataframe(\n",
    "    example_df,\n",
    "    train_dir,\n",
    "    x_col = 'filename',\n",
    "    y_col = 'category',\n",
    "    target_size = Image_Size,\n",
    "    class_mode = 'categorical')"
   ]
  },
  {
   "cell_type": "code",
   "execution_count": null,
   "id": "17612215",
   "metadata": {},
   "outputs": [],
   "source": [
    "plt.figure(figsize = (12, 12))\n",
    "for i in range(0, 15):\n",
    "    plt.subplot(5, 3, i+1)\n",
    "    for X_batch, Y_batch in example_generator:\n",
    "        image = X_batch[0]\n",
    "        plt.imshow(image)\n",
    "        break\n",
    "plt.tight_layout()        \n",
    "plt.show"
   ]
  },
  {
   "cell_type": "code",
   "execution_count": null,
   "id": "4dcaccd1",
   "metadata": {},
   "outputs": [],
   "source": [
    "epochs = 3 if FAST_RUN else 50\n",
    "history = model.fit(\n",
    "    train_generator,\n",
    "    epochs = epochs,\n",
    "    validation_data = validation_generator,\n",
    "    validation_steps = total_validate//batch_size,\n",
    "    steps_per_epoch = total_validate//batch_size,\n",
    "    callbacks = callbacks    \n",
    "    )        "
   ]
  },
  {
   "cell_type": "code",
   "execution_count": null,
   "id": "9bb21307",
   "metadata": {},
   "outputs": [],
   "source": [
    "## Test data preparation:\n",
    "test_filenames = os.listdir(test_dir)\n",
    "test_df = pd.DataFrame({\n",
    "    'filename' : test_filenames\n",
    "    })\n",
    "nb_samples = test_df.shape[0]\n",
    "\n",
    "test_datagen = ImageDataGenerator(rotation_range = 15,\n",
    "                                  rescale = 1./255,                                  \n",
    "                                  shear_range = 0.1,\n",
    "                                  zoom_range = 0.2,\n",
    "                                  horizontal_flip = True,\n",
    "                                  width_shift_range = 0.1,\n",
    "                                  height_shift_range = 0.1\n",
    "                                  )\n",
    "test_generator = test_datagen.flow_from_dataframe(test_df,\n",
    "                                                  test_dir,\n",
    "                                                  x_col = 'filename',\n",
    "                                                  y_col = None,\n",
    "                                                  target_size = Image_Size,\n",
    "                                                  class_mode = None,\n",
    "                                                  batch_size = batch_size\n",
    "                                                  )"
   ]
  },
  {
   "cell_type": "code",
   "execution_count": null,
   "id": "d460bad3",
   "metadata": {},
   "outputs": [],
   "source": [
    "## Save the model:\n",
    "model.save(\"model_cats_dogs.h5\")"
   ]
  },
  {
   "cell_type": "markdown",
   "id": "a5b35fed",
   "metadata": {},
   "source": [
    "Virtualize Training"
   ]
  },
  {
   "cell_type": "code",
   "execution_count": null,
   "id": "97755835",
   "metadata": {},
   "outputs": [],
   "source": [
    "fig, (ax1, ax2) = plt.subplots(2, 1, figsize = (12, 12))\n",
    "ax1.plot(history.history['loss'], \n",
    "         color = 'b', \n",
    "         label = \"Training loss\")\n",
    "ax1.plot(history.history['val_loss'], \n",
    "         color = 'r',\n",
    "         label = \"validation loss\")\n",
    "ax1.set_xticks(np.arange(1, epochs, 1))\n",
    "ax1.set_yticks(np.arange(0, 1, 0.1))\n",
    "\n",
    "ax2.plot(history.history['acc'],\n",
    "         color = 'b',\n",
    "         label = \"Training accuracy\")\n",
    "ax2.plot(history.history['val_acc'],\n",
    "         color = 'r',\n",
    "         label = \"Validation accuracy\")\n",
    "ax2.xticks(np.arange(1, epochs, 1))\n",
    "\n",
    "legend = plt.legend(loc = 'best', shadow = Tue)\n",
    "plt.tight_layout()\n",
    "plt.show()"
   ]
  },
  {
   "cell_type": "code",
   "execution_count": null,
   "id": "89be4fef",
   "metadata": {},
   "outputs": [],
   "source": [
    "## Make categorical prediction\n",
    "predict = model.predict(test_generator,\n",
    "                        steps = np.ceil(nb_samples/batch_size))"
   ]
  },
  {
   "cell_type": "code",
   "execution_count": null,
   "id": "e35368c5",
   "metadata": {},
   "outputs": [],
   "source": [
    "## Convert labels to categories\n",
    "test_df['category'] = np.argmax(predict, axis = -1)\n",
    "\n",
    "label_map = dict((v, k) for k, v in train_generator.class_indices.items())\n",
    "test_df['category'] = test_df['category'].replace(label_map)\n",
    "\n",
    "test_df['category'] = test_df['category'].replace({'dog' : 1, 'cat' : 0})"
   ]
  },
  {
   "cell_type": "markdown",
   "id": "16e1c737",
   "metadata": {},
   "source": [
    "Virtualize result"
   ]
  },
  {
   "cell_type": "code",
   "execution_count": null,
   "id": "1da26087",
   "metadata": {},
   "outputs": [],
   "source": [
    "test_df['category'].value_counts().plot.bar()"
   ]
  },
  {
   "cell_type": "code",
   "execution_count": null,
   "id": "479d0eff",
   "metadata": {},
   "outputs": [],
   "source": [
    "## Visualize the prediction results\n",
    "sample_test = test_df.head(18)\n",
    "sample_test.head()\n",
    "plt.figure(figsize = (12, 24))\n",
    "for index, row in sample_test.iterrows():\n",
    "    filename = row['filename']\n",
    "    category = row['category']\n",
    "    img = load_img(test_dir + filename,\n",
    "                   target_size = Image_Size)\n",
    "    plt.subplot(6, 3, index + 1)\n",
    "    plt.imshow(img)\n",
    "    plt.xlabel(filename + '(' + \"{}\".format(category) + ')')\n",
    "\n",
    "plt.tight_layout()    \n",
    "plt.show()"
   ]
  },
  {
   "cell_type": "markdown",
   "id": "5e4224b3",
   "metadata": {},
   "source": [
    "Submission"
   ]
  },
  {
   "cell_type": "code",
   "execution_count": null,
   "id": "73b7b3d0",
   "metadata": {},
   "outputs": [],
   "source": [
    "submission_df = test_df.copy()\n",
    "submission_df['id'] = submission_df['filename'].str.split('.').str[0]\n",
    "submission_df['label'] = submission_df['category']\n",
    "submission_df.drop(['filename', 'category'], \n",
    "                   axis = 1, \n",
    "                   inplace = True)\n",
    "submission_df.to_csv('submission.csv', index = False)"
   ]
  }
 ],
 "metadata": {
  "kernelspec": {
   "display_name": "Python 3 (ipykernel)",
   "language": "python",
   "name": "python3"
  },
  "language_info": {
   "codemirror_mode": {
    "name": "ipython",
    "version": 3
   },
   "file_extension": ".py",
   "mimetype": "text/x-python",
   "name": "python",
   "nbconvert_exporter": "python",
   "pygments_lexer": "ipython3",
   "version": "3.8.12"
  }
 },
 "nbformat": 4,
 "nbformat_minor": 5
}
